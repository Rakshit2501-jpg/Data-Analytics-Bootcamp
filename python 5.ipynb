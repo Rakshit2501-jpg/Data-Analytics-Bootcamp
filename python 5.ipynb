{
 "cells": [
  {
   "cell_type": "code",
   "execution_count": 1,
   "id": "10b14a85-81ba-490b-8f28-587ef6887112",
   "metadata": {},
   "outputs": [
    {
     "name": "stdout",
     "output_type": "stream",
     "text": [
      "[1, 1, 4, 8, 7, 1]\n"
     ]
    }
   ],
   "source": [
    "#list\n",
    "#append\n",
    "lst=[1,1,4,8,7]\n",
    "lst.append(1)\n",
    "print(lst)"
   ]
  },
  {
   "cell_type": "code",
   "execution_count": 2,
   "id": "3459d4b5-9d18-47d2-99ad-669643c30fe4",
   "metadata": {},
   "outputs": [
    {
     "name": "stdout",
     "output_type": "stream",
     "text": [
      "[56, 52, 48, 46, 50]\n"
     ]
    }
   ],
   "source": [
    "lst=[56,52,48,46]\n",
    "lst.append(50)\n",
    "print(lst)"
   ]
  },
  {
   "cell_type": "code",
   "execution_count": 13,
   "id": "0a6a8379-9e08-406c-bb18-8b1b1eddcf01",
   "metadata": {},
   "outputs": [
    {
     "name": "stdout",
     "output_type": "stream",
     "text": [
      "[10, 'name', 20, 30, 40, 50]\n"
     ]
    }
   ],
   "source": [
    "#insert\n",
    "lst=[10,20,30,40,50]\n",
    "lst.insert(1,\"name\")\n",
    "print(lst)"
   ]
  },
  {
   "cell_type": "code",
   "execution_count": 12,
   "id": "e76dcfee-c1bc-45d8-b8f4-d09eb94cbbb1",
   "metadata": {},
   "outputs": [
    {
     "name": "stdout",
     "output_type": "stream",
     "text": [
      "[20, 30, 40, 50, 60, 1, 2]\n"
     ]
    }
   ],
   "source": [
    "#extend\n",
    "a=[20,30,40,50,60]\n",
    "a.extend([1,2])\n",
    "print(a)"
   ]
  },
  {
   "cell_type": "code",
   "execution_count": 14,
   "id": "165b8b2f-847c-4309-8b63-3e1e3ca571f3",
   "metadata": {},
   "outputs": [
    {
     "name": "stdout",
     "output_type": "stream",
     "text": [
      "[1, 4, 6, 9]\n"
     ]
    }
   ],
   "source": [
    "#pop\n",
    "lst=[1,5,4,6,9]\n",
    "lst.pop(1)\n",
    "print(lst)"
   ]
  },
  {
   "cell_type": "code",
   "execution_count": 20,
   "id": "205fa2d0-8fa9-4df5-a47a-4b6548ef0f96",
   "metadata": {},
   "outputs": [
    {
     "name": "stdout",
     "output_type": "stream",
     "text": [
      "[80, 90, 5, 1, 2]\n"
     ]
    }
   ],
   "source": [
    "#remove\n",
    "lst=[80,90,5,1,2,4]\n",
    "lst.remove(4)\n",
    "print(lst)"
   ]
  },
  {
   "cell_type": "code",
   "execution_count": 23,
   "id": "c5055612-d7cb-4253-8f29-2e9f8099232a",
   "metadata": {},
   "outputs": [
    {
     "data": {
      "text/plain": [
       "<function list.clear()>"
      ]
     },
     "execution_count": 23,
     "metadata": {},
     "output_type": "execute_result"
    }
   ],
   "source": [
    "#clear\n",
    "lst=[50,60,40,30]\n",
    "lst.clear"
   ]
  },
  {
   "cell_type": "code",
   "execution_count": 42,
   "id": "eafb32b2-5c62-40ff-8eea-b4adf282921e",
   "metadata": {},
   "outputs": [
    {
     "name": "stdin",
     "output_type": "stream",
     "text": [
      "Enter a number:  5\n",
      "Enter a number:  4\n",
      "Enter a number:  6\n",
      "Enter a number:  3\n",
      "Enter a number:  1\n"
     ]
    },
    {
     "name": "stdout",
     "output_type": "stream",
     "text": [
      "The final list is: [5, 4, 6, 3, 1]\n"
     ]
    }
   ],
   "source": [
    "#Create an empty list and take 5 numbers as input from the user. Append each number to the list and display the final list.\n",
    "numbers = []\n",
    "for i in range(5):\n",
    "    num = int(input(\"Enter a number: \"))\n",
    "    numbers.append(num)\n",
    "print(\"The final list is:\", numbers)"
   ]
  },
  {
   "cell_type": "code",
   "execution_count": 43,
   "id": "d146f998-a5dd-42a5-80e6-d84e9356bf70",
   "metadata": {},
   "outputs": [
    {
     "name": "stdout",
     "output_type": "stream",
     "text": [
      "Updated list1: [1, 2, 3, 4, 5, 6]\n"
     ]
    }
   ],
   "source": [
    "#Create two lists: list1 = [1, 2, 3] and list2 = [4, 5, 6]. Extend list1 using list2 and print the updated list.\n",
    "list1 = [1, 2, 3]\n",
    "list2 = [4, 5, 6]\n",
    "list1.extend(list2)\n",
    "print(\"Updated list1:\", list1)"
   ]
  },
  {
   "cell_type": "code",
   "execution_count": 3,
   "id": "9c08462f-efd5-48e0-b764-d0def221ca78",
   "metadata": {},
   "outputs": [
    {
     "data": {
      "text/plain": [
       "3"
      ]
     },
     "execution_count": 3,
     "metadata": {},
     "output_type": "execute_result"
    }
   ],
   "source": [
    "#tuple\n",
    "d=tuple('a string with many \"a\"s')\n",
    "d.count(\"a\")"
   ]
  },
  {
   "cell_type": "code",
   "execution_count": 5,
   "id": "58326b0f-8894-4455-aabd-d08b22e752f9",
   "metadata": {},
   "outputs": [
    {
     "data": {
      "text/plain": [
       "[1, 4, 9]"
      ]
     },
     "execution_count": 5,
     "metadata": {},
     "output_type": "execute_result"
    }
   ],
   "source": [
    "#list comprehnsion\n",
    "[i**2 for i in [1,2,3] ]"
   ]
  },
  {
   "cell_type": "code",
   "execution_count": 7,
   "id": "106c98a9-0ea2-49f7-969e-b9a265e6c279",
   "metadata": {},
   "outputs": [
    {
     "data": {
      "text/plain": [
       "[1, 1, 4, 4, 9, 9]"
      ]
     },
     "execution_count": 7,
     "metadata": {},
     "output_type": "execute_result"
    }
   ],
   "source": [
    "[i**2 for i in [1,2,3] for j in [5,7]]"
   ]
  },
  {
   "cell_type": "code",
   "execution_count": 9,
   "id": "77d8e784-0dbb-420f-a619-3a8c3c1f856d",
   "metadata": {},
   "outputs": [
    {
     "name": "stdout",
     "output_type": "stream",
     "text": [
      "[0, 1, 2, 3]\n",
      "[4, 5, 6, 7, 8, 9]\n"
     ]
    }
   ],
   "source": [
    "#list slicing\n",
    "num=[0,1,2,3,4,5,6,7,8,9]\n",
    "print(num[0:4])\n",
    "print(num[4:])"
   ]
  },
  {
   "cell_type": "code",
   "execution_count": 10,
   "id": "f778130d-99b7-4e03-a9ec-31318fa3c5ab",
   "metadata": {},
   "outputs": [],
   "source": [
    "set1=set([1,2,3])"
   ]
  },
  {
   "cell_type": "code",
   "execution_count": 11,
   "id": "dead9d85-42a0-4f80-8748-4b157b8fd4f1",
   "metadata": {},
   "outputs": [],
   "source": [
    "set2=set([4,2,3,5,6])"
   ]
  },
  {
   "cell_type": "code",
   "execution_count": 12,
   "id": "8762a3d2-387c-4c41-975f-92f4dfdac489",
   "metadata": {},
   "outputs": [
    {
     "data": {
      "text/plain": [
       "{1, 2, 3, 4, 5, 6}"
      ]
     },
     "execution_count": 12,
     "metadata": {},
     "output_type": "execute_result"
    }
   ],
   "source": [
    "set1.union(set2)"
   ]
  },
  {
   "cell_type": "code",
   "execution_count": 14,
   "id": "148139d0-e178-4135-9e95-91b31940fecb",
   "metadata": {},
   "outputs": [
    {
     "name": "stdout",
     "output_type": "stream",
     "text": [
      "{1, 2, 3, 6}\n"
     ]
    }
   ],
   "source": [
    "set1.update([6])\n",
    "print(set1)"
   ]
  },
  {
   "cell_type": "code",
   "execution_count": 16,
   "id": "56ca7dbc-7ee8-449d-95b1-6b9d735177ef",
   "metadata": {},
   "outputs": [
    {
     "name": "stdout",
     "output_type": "stream",
     "text": [
      "{1, 2, 6}\n"
     ]
    }
   ],
   "source": [
    "set1.remove(3)\n",
    "print(set1)"
   ]
  },
  {
   "cell_type": "code",
   "execution_count": 17,
   "id": "99f59ed9-6cba-49fb-96f5-02df0baa0010",
   "metadata": {},
   "outputs": [],
   "source": [
    "set1.clear()"
   ]
  },
  {
   "cell_type": "code",
   "execution_count": null,
   "id": "7fe92894-2959-49a0-8587-bf154123ad69",
   "metadata": {},
   "outputs": [],
   "source": [
    " "
   ]
  }
 ],
 "metadata": {
  "kernelspec": {
   "display_name": "Python [conda env:base] *",
   "language": "python",
   "name": "conda-base-py"
  },
  "language_info": {
   "codemirror_mode": {
    "name": "ipython",
    "version": 3
   },
   "file_extension": ".py",
   "mimetype": "text/x-python",
   "name": "python",
   "nbconvert_exporter": "python",
   "pygments_lexer": "ipython3",
   "version": "3.13.5"
  }
 },
 "nbformat": 4,
 "nbformat_minor": 5
}
