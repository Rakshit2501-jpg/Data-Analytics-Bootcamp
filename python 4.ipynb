{
 "cells": [
  {
   "cell_type": "code",
   "execution_count": 4,
   "id": "7cd8b8d6-2ff8-4733-908e-eca93edea882",
   "metadata": {},
   "outputs": [],
   "source": [
    "#function\n",
    "def add():\n",
    " a=10\n",
    " b=30\n",
    " print(a+b)"
   ]
  },
  {
   "cell_type": "code",
   "execution_count": 5,
   "id": "ad57cf1f-f206-488e-9984-86593cf7d874",
   "metadata": {},
   "outputs": [
    {
     "name": "stdout",
     "output_type": "stream",
     "text": [
      "40\n"
     ]
    }
   ],
   "source": [
    "add()"
   ]
  },
  {
   "cell_type": "code",
   "execution_count": 7,
   "id": "a3675847-3810-4364-bd9c-69c7fd3218fe",
   "metadata": {},
   "outputs": [],
   "source": [
    "def add(x,y):\n",
    " print(x+y)"
   ]
  },
  {
   "cell_type": "code",
   "execution_count": 9,
   "id": "4c6a9463-15b0-4f8c-b710-e95ecd7e1370",
   "metadata": {},
   "outputs": [
    {
     "name": "stdout",
     "output_type": "stream",
     "text": [
      "30\n"
     ]
    }
   ],
   "source": [
    "add(20,10)"
   ]
  },
  {
   "cell_type": "code",
   "execution_count": 11,
   "id": "22c2839a-5f49-436e-9682-152cf1eec28e",
   "metadata": {},
   "outputs": [
    {
     "name": "stdout",
     "output_type": "stream",
     "text": [
      "60.0\n"
     ]
    }
   ],
   "source": [
    "def simpleinterest():\n",
    " p=10\n",
    " r=20\n",
    " t=30\n",
    " n=100\n",
    " print(p*r*t/n)\n",
    "simpleinterest()\n"
   ]
  },
  {
   "cell_type": "code",
   "execution_count": 18,
   "id": "9b08ce45-cdca-427f-a397-ddb65a9f8b1b",
   "metadata": {},
   "outputs": [
    {
     "name": "stdout",
     "output_type": "stream",
     "text": [
      "sum of natural numbers from 1 to 50 is:\n"
     ]
    }
   ],
   "source": [
    "def sumnatural():\n",
    "     total=0\n",
    "     for i in range(1,5):\n",
    "      total +=i\n",
    "     return total\n",
    "\n",
    "print(\"sum of natural numbers from 1 to 50 is:\")"
   ]
  },
  {
   "cell_type": "code",
   "execution_count": 19,
   "id": "f97441de-f706-4cad-9321-b13806157db3",
   "metadata": {},
   "outputs": [
    {
     "data": {
      "text/plain": [
       "10"
      ]
     },
     "execution_count": 19,
     "metadata": {},
     "output_type": "execute_result"
    }
   ],
   "source": [
    "sumnatural()"
   ]
  },
  {
   "cell_type": "code",
   "execution_count": 21,
   "id": "029bf8a7-abf8-45f4-b37a-0f2ed44008e7",
   "metadata": {},
   "outputs": [
    {
     "name": "stdout",
     "output_type": "stream",
     "text": [
      "value of i is 1\n",
      "value of sum is 1\n",
      "value of i is 2\n",
      "value of sum is 2\n",
      "value of i is 3\n",
      "value of sum is 3\n",
      "value of i is 4\n",
      "value of sum is 4\n",
      "value of i is 5\n",
      "value of sum is 5\n",
      "value of i is 6\n",
      "value of sum is 6\n",
      "value of i is 7\n",
      "value of sum is 7\n",
      "value of i is 8\n",
      "value of sum is 8\n",
      "value of i is 9\n",
      "value of sum is 9\n",
      "value of i is 10\n",
      "value of sum is 10\n",
      "value of i is 11\n",
      "value of sum is 11\n",
      "value of i is 12\n",
      "value of sum is 12\n",
      "value of i is 13\n",
      "value of sum is 13\n",
      "value of i is 14\n",
      "value of sum is 14\n",
      "value of i is 15\n",
      "value of sum is 15\n",
      "value of i is 16\n",
      "value of sum is 16\n",
      "value of i is 17\n",
      "value of sum is 17\n",
      "value of i is 18\n",
      "value of sum is 18\n",
      "value of i is 19\n",
      "value of sum is 19\n",
      "value of i is 20\n",
      "value of sum is 20\n",
      "value of i is 21\n",
      "value of sum is 21\n",
      "value of i is 22\n",
      "value of sum is 22\n",
      "value of i is 23\n",
      "value of sum is 23\n",
      "value of i is 24\n",
      "value of sum is 24\n",
      "value of i is 25\n",
      "value of sum is 25\n",
      "value of i is 26\n",
      "value of sum is 26\n",
      "value of i is 27\n",
      "value of sum is 27\n",
      "value of i is 28\n",
      "value of sum is 28\n",
      "value of i is 29\n",
      "value of sum is 29\n",
      "value of i is 30\n",
      "value of sum is 30\n",
      "value of i is 31\n",
      "value of sum is 31\n",
      "value of i is 32\n",
      "value of sum is 32\n",
      "value of i is 33\n",
      "value of sum is 33\n",
      "value of i is 34\n",
      "value of sum is 34\n",
      "value of i is 35\n",
      "value of sum is 35\n",
      "value of i is 36\n",
      "value of sum is 36\n",
      "value of i is 37\n",
      "value of sum is 37\n",
      "value of i is 38\n",
      "value of sum is 38\n",
      "value of i is 39\n",
      "value of sum is 39\n",
      "value of i is 40\n",
      "value of sum is 40\n",
      "value of i is 41\n",
      "value of sum is 41\n",
      "value of i is 42\n",
      "value of sum is 42\n",
      "value of i is 43\n",
      "value of sum is 43\n",
      "value of i is 44\n",
      "value of sum is 44\n",
      "value of i is 45\n",
      "value of sum is 45\n",
      "value of i is 46\n",
      "value of sum is 46\n",
      "value of i is 47\n",
      "value of sum is 47\n",
      "value of i is 48\n",
      "value of sum is 48\n",
      "value of i is 49\n",
      "value of sum is 49\n",
      "value of i is 50\n",
      "value of sum is 50\n",
      "50\n"
     ]
    }
   ],
   "source": [
    "def sum_n (a,b):\n",
    "    sum=0\n",
    "    for i in range (a,b):\n",
    "      print(f\"value of i is {i}\")\n",
    "      sum+=1\n",
    "      print(f\"value of sum is {sum}\")\n",
    "    print(sum)\n",
    "sum_n(1,51)"
   ]
  },
  {
   "cell_type": "code",
   "execution_count": 24,
   "id": "da983117-49f0-456e-9d66-b131dce40f13",
   "metadata": {},
   "outputs": [
    {
     "name": "stdout",
     "output_type": "stream",
     "text": [
      "1\n",
      "2\n",
      "3\n",
      "4\n",
      "5\n",
      "6\n",
      "7\n",
      "8\n",
      "9\n",
      "10\n",
      "11\n",
      "12\n",
      "13\n",
      "14\n"
     ]
    }
   ],
   "source": [
    "def sum_n (a,b):\n",
    "    sum=0\n",
    "    for i in range (a,b):\n",
    "      sum +=1\n",
    "      print(sum)\n",
    "sum_n(1,15)"
   ]
  },
  {
   "cell_type": "code",
   "execution_count": 26,
   "id": "56098a05-7961-49df-ba23-98260a900fc6",
   "metadata": {},
   "outputs": [
    {
     "name": "stdout",
     "output_type": "stream",
     "text": [
      "sum of odd numbers from 1 to 50 is:\n"
     ]
    },
    {
     "data": {
      "text/plain": [
       "1"
      ]
     },
     "execution_count": 26,
     "metadata": {},
     "output_type": "execute_result"
    }
   ],
   "source": [
    "def sum5():\n",
    "    total=0\n",
    "    for i in range (1,51):\n",
    "     if i% 2 !=0:\n",
    "         total += i \n",
    "         print(\"sum of odd numbers from 1 to 50 is:\")\n",
    "         return total\n",
    "\n",
    "sum5()"
   ]
  },
  {
   "cell_type": "code",
   "execution_count": 1,
   "id": "fc172c1e-06ff-4e30-92ae-defcf039d202",
   "metadata": {},
   "outputs": [
    {
     "name": "stdout",
     "output_type": "stream",
     "text": [
      "60\n"
     ]
    }
   ],
   "source": [
    "def add_new(a=10 ,b=50):\n",
    "    print(a+b)\n",
    "add_new(10)"
   ]
  },
  {
   "cell_type": "code",
   "execution_count": 2,
   "id": "c3756792-0546-4200-a0bd-66dac69ca446",
   "metadata": {},
   "outputs": [
    {
     "name": "stdout",
     "output_type": "stream",
     "text": [
      "60\n"
     ]
    }
   ],
   "source": [
    "add_new()"
   ]
  },
  {
   "cell_type": "code",
   "execution_count": 3,
   "id": "a4e3dbab-e817-49aa-9858-82811bb36e97",
   "metadata": {},
   "outputs": [
    {
     "name": "stdout",
     "output_type": "stream",
     "text": [
      "25\n"
     ]
    }
   ],
   "source": [
    "add_new(20,5)"
   ]
  },
  {
   "cell_type": "code",
   "execution_count": 15,
   "id": "d2a5a0ae-c935-421a-8a81-5f7f04f51bf0",
   "metadata": {},
   "outputs": [],
   "source": [
    "def add(a,b):\n",
    "  c=a+b\n",
    "  return c\n",
    "a_1=add(10,20)"
   ]
  },
  {
   "cell_type": "raw",
   "id": "d9e314a6-eedf-40ab-9d92-8e6958f5a083",
   "metadata": {},
   "source": [
    "print(a_1)"
   ]
  },
  {
   "cell_type": "code",
   "execution_count": 16,
   "id": "218e3862-b5fa-4431-bc81-6030ed58879c",
   "metadata": {},
   "outputs": [],
   "source": [
    "add=lambda a,b:a+b"
   ]
  },
  {
   "cell_type": "code",
   "execution_count": 17,
   "id": "ad51786e-d0be-45fe-add4-54f7830ce3dc",
   "metadata": {},
   "outputs": [
    {
     "data": {
      "text/plain": [
       "15"
      ]
     },
     "execution_count": 17,
     "metadata": {},
     "output_type": "execute_result"
    }
   ],
   "source": [
    "add(12,3)"
   ]
  },
  {
   "cell_type": "code",
   "execution_count": 18,
   "id": "56cec922-d7b7-4301-8ea7-eaf2d6af7dc8",
   "metadata": {},
   "outputs": [
    {
     "name": "stdout",
     "output_type": "stream",
     "text": [
      "Reversed string: ycnan\n"
     ]
    }
   ],
   "source": [
    "def reverse_string(s):\n",
    "    return s[::-1]\n",
    "input_string = \"nancy\"\n",
    "reversed_string = reverse_string(input_string)\n",
    "print(\"Reversed string:\",reversed_string)\n"
   ]
  },
  {
   "cell_type": "code",
   "execution_count": 19,
   "id": "b1338b87-1846-4418-be03-ef5bc71da662",
   "metadata": {},
   "outputs": [
    {
     "name": "stdin",
     "output_type": "stream",
     "text": [
      "enter a number: 5\n"
     ]
    },
    {
     "name": "stdout",
     "output_type": "stream",
     "text": [
      "square of 5 is: 25\n"
     ]
    }
   ],
   "source": [
    "def square_number():\n",
    "  i=int(input(\"enter a number:\"))\n",
    "  square=i*i\n",
    "  print(\"square of\",i,\"is:\",square)\n",
    "square_number()"
   ]
  },
  {
   "cell_type": "code",
   "execution_count": 24,
   "id": "bdfb46d1-bab9-4952-ab4a-4e3ff6fb3de0",
   "metadata": {},
   "outputs": [
    {
     "name": "stdin",
     "output_type": "stream",
     "text": [
      "enter a number: 5\n"
     ]
    },
    {
     "name": "stdout",
     "output_type": "stream",
     "text": [
      "5 is odd:\n"
     ]
    }
   ],
   "source": [
    "def even(number):\n",
    "  return number%2==0\n",
    "i=int(input(\"enter a number:\"))\n",
    "if even(i):\n",
    "  print(f\"{i} is even:\")\n",
    "else:\n",
    "  print(f\"{i} is odd:\")"
   ]
  },
  {
   "cell_type": "code",
   "execution_count": 26,
   "id": "184f1928-63db-455b-9d2d-e0e9e8249513",
   "metadata": {},
   "outputs": [
    {
     "name": "stdin",
     "output_type": "stream",
     "text": [
      "enter a number to find its factorial: 100\n"
     ]
    },
    {
     "name": "stdout",
     "output_type": "stream",
     "text": [
      "factorial of {i} is {factorial(i)}\n"
     ]
    }
   ],
   "source": [
    "def factories(n):\n",
    "  if n==0 or n==1:\n",
    "      return 1 \n",
    "  else:\n",
    "     return n* factorial(n-1)\n",
    "i=int(input(\"enter a number to find its factorial:\"))\n",
    "if i<0:\n",
    "    print(\"factorial is not defined for negative numbers:\")\n",
    "else:\n",
    "    print(\"factorial of {i} is {factorial(i)}\")"
   ]
  },
  {
   "cell_type": "code",
   "execution_count": 27,
   "id": "9718045d-aad4-49d7-a4d4-45e339d8a026",
   "metadata": {},
   "outputs": [
    {
     "name": "stdout",
     "output_type": "stream",
     "text": [
      "The largest number is: 95\n"
     ]
    }
   ],
   "source": [
    "def largest(numbers):\n",
    "    if not numbers:\n",
    "        return None \n",
    "    largest = numbers[0]\n",
    "    for num in numbers[1:]:\n",
    "        if num > largest:\n",
    "            largest = num\n",
    "    return largest\n",
    "\n",
    "mylist = [10, 95, 9, 82, 1]\n",
    "print(\"The largest number is:\", largest(mylist))"
   ]
  },
  {
   "cell_type": "code",
   "execution_count": 28,
   "id": "4c1acf66-2dc0-448d-afa9-c0ba40f15d4b",
   "metadata": {},
   "outputs": [
    {
     "name": "stdin",
     "output_type": "stream",
     "text": [
      "Enter number of terms:  10\n"
     ]
    },
    {
     "name": "stdout",
     "output_type": "stream",
     "text": [
      "Fibonacci series: [0, 1, 1, 2, 3, 5, 8, 13, 21, 34]\n"
     ]
    }
   ],
   "source": [
    "def fibonacci_series(n):\n",
    "    fib_series = [ ]\n",
    "    a, b = 0, 1\n",
    "    for _ in range(n):\n",
    "        fib_series.append(a)\n",
    "        a, b = b, a + b\n",
    "    return fib_series\n",
    "\n",
    "terms = int(input(\"Enter number of terms: \"))\n",
    "if terms <= 0:\n",
    "    print(\"Please enter a positive integer.\")\n",
    "else:\n",
    "    series = fibonacci_series(terms)\n",
    "    print(\"Fibonacci series:\", series)"
   ]
  },
  {
   "cell_type": "code",
   "execution_count": 29,
   "id": "51bb4627-39c8-4202-a86a-03eb5cfcd026",
   "metadata": {},
   "outputs": [
    {
     "name": "stdin",
     "output_type": "stream",
     "text": [
      "Enter a string:  50\n"
     ]
    },
    {
     "name": "stdout",
     "output_type": "stream",
     "text": [
      "Number of vowels: 0\n"
     ]
    }
   ],
   "source": [
    "def count_vowels(text):\n",
    "    vowels = 'aeiou'\n",
    "    count = 0\n",
    "    for char in text:\n",
    "        if char in vowels:\n",
    "            count += 1\n",
    "    return count\n",
    "\n",
    "user_input = input(\"Enter a string: \")\n",
    "vowel_count = count_vowels(user_input)\n",
    "print(\"Number of vowels:\", vowel_count)"
   ]
  },
  {
   "cell_type": "code",
   "execution_count": 32,
   "id": "eeea4094-d5ea-4d6e-8a42-b21b99aa31b1",
   "metadata": {},
   "outputs": [
    {
     "name": "stdin",
     "output_type": "stream",
     "text": [
      "Enter a string:  10\n"
     ]
    },
    {
     "name": "stdout",
     "output_type": "stream",
     "text": [
      "It's not a palindrome.\n"
     ]
    }
   ],
   "source": [
    "def palindrome(string):\n",
    "    string = string.replace(\" \", \"\").lower()\n",
    "    \n",
    "    return string == string[::-1]\n",
    "\n",
    "\n",
    "text = input(\"Enter a string: \")\n",
    "if palindrome(text):\n",
    "    print(\"It's a palindrome!\")\n",
    "else:\n",
    "    print(\"It's not a palindrome.\")"
   ]
  },
  {
   "cell_type": "code",
   "execution_count": 33,
   "id": "aba57a9f-4dd3-4f5a-9396-ff4cca185cfd",
   "metadata": {},
   "outputs": [
    {
     "name": "stdout",
     "output_type": "stream",
     "text": [
      "Sum is: 30\n"
     ]
    }
   ],
   "source": [
    "def total_sum(*args):\n",
    "    result = 0\n",
    "    for num in args:\n",
    "        result += num\n",
    "    return result\n",
    "print(\"Sum is:\", total_sum(5, 10, 15))"
   ]
  },
  {
   "cell_type": "code",
   "execution_count": 2,
   "id": "86f9f986-af8c-4a5e-b0b7-b515f9140672",
   "metadata": {},
   "outputs": [],
   "source": [
    "def check_even_odd(number):\n",
    "    if number % 2 == 0:\n",
    "        print(f\"{number} is Even\")\n",
    "    else:\n",
    "        print(f\"{number} is Odd\")"
   ]
  },
  {
   "cell_type": "code",
   "execution_count": null,
   "id": "bb3e7242-5d55-4cba-af7d-2eac40f8afc2",
   "metadata": {},
   "outputs": [],
   "source": []
  }
 ],
 "metadata": {
  "kernelspec": {
   "display_name": "Python [conda env:base] *",
   "language": "python",
   "name": "conda-base-py"
  },
  "language_info": {
   "codemirror_mode": {
    "name": "ipython",
    "version": 3
   },
   "file_extension": ".py",
   "mimetype": "text/x-python",
   "name": "python",
   "nbconvert_exporter": "python",
   "pygments_lexer": "ipython3",
   "version": "3.13.5"
  }
 },
 "nbformat": 4,
 "nbformat_minor": 5
}
