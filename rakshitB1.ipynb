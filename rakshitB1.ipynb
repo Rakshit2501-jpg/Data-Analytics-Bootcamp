{
 "cells": [
  {
   "cell_type": "code",
   "execution_count": 1,
   "id": "2cf7173d-ef9f-4337-aa98-837239f967f0",
   "metadata": {},
   "outputs": [
    {
     "name": "stdin",
     "output_type": "stream",
     "text": [
      "Enter number 1:  10\n",
      "Enter number 2:  20\n",
      "Enter number 3:  30\n",
      "Enter number 4:  40\n",
      "Enter number 5:  50\n"
     ]
    },
    {
     "name": "stdout",
     "output_type": "stream",
     "text": [
      "The final list is: [10, 20, 30, 40, 50]\n"
     ]
    }
   ],
   "source": [
    "numbers = []\n",
    "for i in range(5):\n",
    "    num = int(input(f\"Enter number {i+1}: \"))\n",
    "    numbers.append(num)\n",
    "print(\"The final list is:\", numbers)"
   ]
  },
  {
   "cell_type": "code",
   "execution_count": 7,
   "id": "3b87e24a-69a9-4c40-8775-862cd3e8c9d6",
   "metadata": {},
   "outputs": [
    {
     "name": "stdout",
     "output_type": "stream",
     "text": [
      "Updated list1: [1, 2, 3, 4, 5, 6]\n"
     ]
    }
   ],
   "source": [
    "list1 = [1, 2, 3]\n",
    "list2 = [4, 5, 6]\n",
    "list1.extend(list2)\n",
    "print(\"Updated list1:\", list1)\n"
   ]
  },
  {
   "cell_type": "code",
   "execution_count": 3,
   "id": "68c91fb5-bacf-475d-8377-8ba78eb4a16e",
   "metadata": {},
   "outputs": [
    {
     "name": "stdout",
     "output_type": "stream",
     "text": [
      "After insertion: [10, 20, 25, 30, 40]\n"
     ]
    }
   ],
   "source": [
    "l = [10, 20, 30, 40]\n",
    "l.insert(2, 25)\n",
    "print(\"After insertion:\", l)"
   ]
  },
  {
   "cell_type": "code",
   "execution_count": 4,
   "id": "be0fd077-7a24-4357-b1d1-337d24f4396a",
   "metadata": {},
   "outputs": [
    {
     "name": "stdout",
     "output_type": "stream",
     "text": [
      "After removal: [10, 30, 20, 40]\n"
     ]
    }
   ],
   "source": [
    "l = [10, 20, 30, 20, 40]\n",
    "l.remove(20)\n",
    "print(\"After removal:\", l)"
   ]
  },
  {
   "cell_type": "code",
   "execution_count": 8,
   "id": "efb47ba5-56e8-4263-b799-d0b561613904",
   "metadata": {},
   "outputs": [
    {
     "name": "stdout",
     "output_type": "stream",
     "text": [
      "5\n",
      "[1, 2, 3, 4]\n"
     ]
    }
   ],
   "source": [
    "l = [1, 2, 3, 4, 5]\n",
    "x = l.pop()\n",
    "print(x)\n",
    "print(l)\n"
   ]
  },
  {
   "cell_type": "code",
   "execution_count": 9,
   "id": "fe042b49-ba66-4dfa-9e8e-ce0754aed124",
   "metadata": {},
   "outputs": [
    {
     "name": "stdout",
     "output_type": "stream",
     "text": [
      "2\n"
     ]
    }
   ],
   "source": [
    "l1 = [5, 10, 15, 20, 25]\n",
    "print(l1.index(15))"
   ]
  },
  {
   "cell_type": "code",
   "execution_count": 10,
   "id": "e60e71f4-e252-4cc0-92ae-fa4c74b9de6b",
   "metadata": {},
   "outputs": [
    {
     "name": "stdout",
     "output_type": "stream",
     "text": [
      "4\n"
     ]
    }
   ],
   "source": [
    "l2 = [1, 2, 2, 3, 2, 4, 2]\n",
    "print(l2.count(2))"
   ]
  },
  {
   "cell_type": "code",
   "execution_count": 11,
   "id": "30be1e7a-4891-44fd-964b-cc5e7c838c18",
   "metadata": {},
   "outputs": [
    {
     "name": "stdout",
     "output_type": "stream",
     "text": [
      "[3, 5, 7, 10]\n",
      "[10, 7, 5, 3]\n"
     ]
    }
   ],
   "source": [
    "l3 = [10, 5, 7, 3]\n",
    "l3.sort()\n",
    "print(l3)\n",
    "\n",
    "l3.sort(reverse=True)\n",
    "print(l3)"
   ]
  },
  {
   "cell_type": "code",
   "execution_count": null,
   "id": "bda20f4a-a372-4281-90da-00e91c61d94c",
   "metadata": {},
   "outputs": [],
   "source": []
  }
 ],
 "metadata": {
  "kernelspec": {
   "display_name": "Python 3 (ipykernel)",
   "language": "python",
   "name": "python3"
  },
  "language_info": {
   "codemirror_mode": {
    "name": "ipython",
    "version": 3
   },
   "file_extension": ".py",
   "mimetype": "text/x-python",
   "name": "python",
   "nbconvert_exporter": "python",
   "pygments_lexer": "ipython3",
   "version": "3.13.5"
  }
 },
 "nbformat": 4,
 "nbformat_minor": 5
}
