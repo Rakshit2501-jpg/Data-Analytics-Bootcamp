{
 "cells": [
  {
   "cell_type": "code",
   "execution_count": 1,
   "id": "4d69ad3f-f2ab-421b-8986-a72555ae642b",
   "metadata": {},
   "outputs": [
    {
     "name": "stdout",
     "output_type": "stream",
     "text": [
      "<class 'float'>\n"
     ]
    }
   ],
   "source": [
    "#type conversion\n",
    "x=10\n",
    "y=float(x)\n",
    "print(type(y))"
   ]
  },
  {
   "cell_type": "code",
   "execution_count": 2,
   "id": "16857d6e-e157-442f-b864-b86369d95d21",
   "metadata": {},
   "outputs": [
    {
     "name": "stdout",
     "output_type": "stream",
     "text": [
      "<class 'float'>\n"
     ]
    }
   ],
   "source": [
    "x=10\n",
    "y=10.5\n",
    "print(type(y))"
   ]
  },
  {
   "cell_type": "code",
   "execution_count": 12,
   "id": "6a40390d-3a35-4799-99d4-c0629294feec",
   "metadata": {},
   "outputs": [
    {
     "name": "stdin",
     "output_type": "stream",
     "text": [
      "enter product name: banana\n",
      "enter quality: 50\n",
      "enter price per item: 15\n"
     ]
    },
    {
     "name": "stdout",
     "output_type": "stream",
     "text": [
      "banana\n",
      "50\n",
      "15.0\n",
      "750.0\n"
     ]
    }
   ],
   "source": [
    "product= input(\"enter product name:\")\n",
    "quality= int(input(\"enter quality:\"))\n",
    "price= float(input(\"enter price per item:\"))\n",
    "total= quality*price\n",
    "print(product)\n",
    "print(quality)\n",
    "print(price)\n",
    "print(total)\n",
    "\n"
   ]
  },
  {
   "cell_type": "code",
   "execution_count": 7,
   "id": "1f2c0246-a644-4a00-983d-19d292aa6522",
   "metadata": {},
   "outputs": [
    {
     "name": "stdout",
     "output_type": "stream",
     "text": [
      "hello\n"
     ]
    }
   ],
   "source": [
    "a=10\n",
    "if a<20:\n",
    "   print(\"hello\")"
   ]
  },
  {
   "cell_type": "code",
   "execution_count": 10,
   "id": "7f2e6ecc-72a2-45f1-ac03-a159fa1f6a09",
   "metadata": {},
   "outputs": [
    {
     "name": "stdout",
     "output_type": "stream",
     "text": [
      "bye\n"
     ]
    }
   ],
   "source": [
    "a=10\n",
    "if a>15:\n",
    "   print(\"hello\")\n",
    "else:\n",
    "   print(\"bye\")"
   ]
  },
  {
   "cell_type": "code",
   "execution_count": 14,
   "id": "f3d26916-d9d5-4bf1-8996-534fd978ee5b",
   "metadata": {},
   "outputs": [
    {
     "name": "stdout",
     "output_type": "stream",
     "text": [
      "yes\n"
     ]
    }
   ],
   "source": [
    "x=5\n",
    "if x>2:\n",
    "   print(\"yes\")"
   ]
  },
  {
   "cell_type": "code",
   "execution_count": 15,
   "id": "a4dff5c2-81b1-42cd-9b48-b66f4ed9e498",
   "metadata": {},
   "outputs": [
    {
     "name": "stdout",
     "output_type": "stream",
     "text": [
      "15\n"
     ]
    }
   ],
   "source": [
    "x=10\n",
    "print(int(x)+5)"
   ]
  },
  {
   "cell_type": "code",
   "execution_count": 5,
   "id": "f4e909b5-c5cb-452f-b854-88cd009c0c4d",
   "metadata": {},
   "outputs": [
    {
     "name": "stdout",
     "output_type": "stream",
     "text": [
      "false\n"
     ]
    }
   ],
   "source": [
    "x=0\n",
    "if x>0:\n",
    "      print(\"true\")\n",
    "else:\n",
    "    print(\"false\")"
   ]
  },
  {
   "cell_type": "code",
   "execution_count": 19,
   "id": "4ebbb89d-446c-420e-a07f-8253e5f64b89",
   "metadata": {},
   "outputs": [
    {
     "name": "stdout",
     "output_type": "stream",
     "text": [
      "eligible to vote\n"
     ]
    }
   ],
   "source": [
    "age=45\n",
    "if age>=18:\n",
    "    print(\"eligible to vote\")\n",
    "else:\n",
    "    print(\"not eligible\")"
   ]
  },
  {
   "cell_type": "code",
   "execution_count": 20,
   "id": "5c517ff9-2fe2-4683-840c-a95f310645a0",
   "metadata": {},
   "outputs": [
    {
     "name": "stdout",
     "output_type": "stream",
     "text": [
      "pass\n"
     ]
    }
   ],
   "source": [
    "marks=50\n",
    "if marks>=40:\n",
    "    print(\"pass\")\n",
    "else:\n",
    "    print(\"fail\")"
   ]
  },
  {
   "cell_type": "code",
   "execution_count": 11,
   "id": "8850b2f6-41f2-4845-bc02-4cdba08c4b97",
   "metadata": {},
   "outputs": [
    {
     "name": "stdin",
     "output_type": "stream",
     "text": [
      "enter a number 5\n"
     ]
    },
    {
     "name": "stdout",
     "output_type": "stream",
     "text": [
      "odd\n"
     ]
    }
   ],
   "source": [
    "a=int(input(\"enter a number\"))\n",
    "if (a%2==0):\n",
    "    print(\"even\")\n",
    "else:\n",
    "    print(\"odd\")"
   ]
  },
  {
   "cell_type": "code",
   "execution_count": 13,
   "id": "5d45c7f0-fcad-45a2-bcc6-178879d5ca9c",
   "metadata": {},
   "outputs": [
    {
     "name": "stdout",
     "output_type": "stream",
     "text": [
      "positive\n"
     ]
    }
   ],
   "source": [
    "x=6\n",
    "if x:\n",
    "    print(\"positive\")\n",
    "else:\n",
    "    print(\"negative\")"
   ]
  },
  {
   "cell_type": "code",
   "execution_count": 28,
   "id": "3df24d8d-5485-4adf-acb9-65e3024cd3a1",
   "metadata": {},
   "outputs": [
    {
     "name": "stdin",
     "output_type": "stream",
     "text": [
      "enter month january\n"
     ]
    },
    {
     "name": "stdout",
     "output_type": "stream",
     "text": [
      "its winter season\n"
     ]
    }
   ],
   "source": [
    " month = input(\"enter month\")\n",
    "if month in ['december','january','february']:\n",
    "   print(\"its winter season\")\n",
    "elif month in ['march','april','may']:\n",
    "   print(\"its summer season\")\n",
    "else:\n",
    "   print(\"invalid\")"
   ]
  },
  {
   "cell_type": "code",
   "execution_count": 2,
   "id": "8bd099e3-fab5-47a0-8f64-3788d72ee533",
   "metadata": {},
   "outputs": [
    {
     "name": "stdout",
     "output_type": "stream",
     "text": [
      "a\n"
     ]
    }
   ],
   "source": [
    "x=10\n",
    "if x>5:\n",
    "  print('a')\n",
    "elif x>3:\n",
    "  print('b')\n",
    "else:\n",
    "  print('c')"
   ]
  },
  {
   "cell_type": "code",
   "execution_count": 3,
   "id": "c06e4dc3-ff1e-418d-8c4d-f575bb318641",
   "metadata": {},
   "outputs": [
    {
     "name": "stdout",
     "output_type": "stream",
     "text": [
      "no\n"
     ]
    }
   ],
   "source": [
    "x=4\n",
    "y=2\n",
    "if x>2:\n",
    "    if y>3:\n",
    "        print('yes')\n",
    "    else:\n",
    "        print('no')"
   ]
  },
  {
   "cell_type": "code",
   "execution_count": 11,
   "id": "f2e7e120-37a0-4011-8ac7-7f171ac131ff",
   "metadata": {},
   "outputs": [
    {
     "name": "stdout",
     "output_type": "stream",
     "text": [
      "adult\n"
     ]
    }
   ],
   "source": [
    "age=50\n",
    "if age<13:\n",
    "    print('child')\n",
    "elif age <18 :\n",
    "    print('teen')\n",
    "else :\n",
    "    print('adult')"
   ]
  },
  {
   "cell_type": "code",
   "execution_count": 14,
   "id": "f1a194c7-9644-42da-badf-31d5afa48520",
   "metadata": {},
   "outputs": [
    {
     "name": "stdout",
     "output_type": "stream",
     "text": [
      "postive\n"
     ]
    }
   ],
   "source": [
    "num=4\n",
    "if num >0:\n",
    "   print(\"postive\")\n",
    "elif num <0:\n",
    "   print(\"negative\")\n",
    "else:\n",
    "   print(\"zero\")"
   ]
  },
  {
   "cell_type": "code",
   "execution_count": 5,
   "id": "08bbb123-6267-4ea4-8963-5e02712e6221",
   "metadata": {},
   "outputs": [
    {
     "name": "stdin",
     "output_type": "stream",
     "text": [
      "enter vehicle car\n"
     ]
    },
    {
     "name": "stdout",
     "output_type": "stream",
     "text": [
      "it will expire in 15 years\n"
     ]
    }
   ],
   "source": [
    "vehicle=input(\"enter vehicle\")\n",
    "if vehicle in ['car','bus','truck']:\n",
    "    print(\"it will expire in 15 years\")\n",
    "elif month in ['bike','ebike']:\n",
    "    print(\"it will expire in 12 years\")\n",
    "else:\n",
    "     print(\"invalid\")"
   ]
  },
  {
   "cell_type": "code",
   "execution_count": 4,
   "id": "84f76fc6-19d8-4387-9e9c-b71c6baa4c04",
   "metadata": {},
   "outputs": [
    {
     "name": "stdout",
     "output_type": "stream",
     "text": [
      "x<y\n",
      "x=10\n"
     ]
    }
   ],
   "source": [
    "x = 10\n",
    "y = 12\n",
    "if x > y:\n",
    "    print( \"x>y\")\n",
    "elif x < y:\n",
    "    print( \"x<y\")\n",
    "    if x==10:\n",
    "        print (\"x=10\")\n",
    "    else:\n",
    "        print (\"invalid\")\n",
    "else:\n",
    "    print (\"x=y\")"
   ]
  },
  {
   "cell_type": "code",
   "execution_count": null,
   "id": "cea98842-8838-4abc-9f9d-8ee415815bae",
   "metadata": {},
   "outputs": [],
   "source": []
  }
 ],
 "metadata": {
  "kernelspec": {
   "display_name": "Python [conda env:base] *",
   "language": "python",
   "name": "conda-base-py"
  },
  "language_info": {
   "codemirror_mode": {
    "name": "ipython",
    "version": 3
   },
   "file_extension": ".py",
   "mimetype": "text/x-python",
   "name": "python",
   "nbconvert_exporter": "python",
   "pygments_lexer": "ipython3",
   "version": "3.13.5"
  }
 },
 "nbformat": 4,
 "nbformat_minor": 5
}
