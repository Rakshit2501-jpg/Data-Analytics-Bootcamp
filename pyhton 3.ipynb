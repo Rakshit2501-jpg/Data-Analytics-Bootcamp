{
 "cells": [
  {
   "cell_type": "code",
   "execution_count": 1,
   "id": "db13740e-541c-49f8-b8f0-dd9ddb1fd587",
   "metadata": {},
   "outputs": [
    {
     "name": "stdin",
     "output_type": "stream",
     "text": [
      "enter a number 85\n"
     ]
    },
    {
     "name": "stdout",
     "output_type": "stream",
     "text": [
      "85 x 1\n",
      "85 x 2\n",
      "85 x 3\n",
      "85 x 4\n",
      "85 x 5\n",
      "85 x 6\n",
      "85 x 7\n",
      "85 x 8\n",
      "85 x 9\n",
      "85 x 10\n"
     ]
    }
   ],
   "source": [
    "#loops\n",
    "#while loop\n",
    "num=int(input(\"enter a number\"))\n",
    "i=1\n",
    "while  i<=10:\n",
    "    print(f\"{num} x {i}\")\n",
    "    i+=1"
   ]
  },
  {
   "cell_type": "code",
   "execution_count": 2,
   "id": "7f567a94-2586-4314-9bd5-9ba6984509c0",
   "metadata": {},
   "outputs": [
    {
     "name": "stdin",
     "output_type": "stream",
     "text": [
      "type'Q' to quit: Q\n"
     ]
    },
    {
     "name": "stdout",
     "output_type": "stream",
     "text": [
      "you typed: Q\n"
     ]
    },
    {
     "name": "stdin",
     "output_type": "stream",
     "text": [
      "type'Q' to quit: Q\n"
     ]
    },
    {
     "name": "stdout",
     "output_type": "stream",
     "text": [
      "you typed: Q\n"
     ]
    },
    {
     "name": "stdin",
     "output_type": "stream",
     "text": [
      "type'Q' to quit: q\n"
     ]
    },
    {
     "name": "stdout",
     "output_type": "stream",
     "text": [
      "Exited loop!\n"
     ]
    }
   ],
   "source": [
    "while True:\n",
    "    user_input = input(\"type'Q' to quit:\")\n",
    "    if user_input == 'q':\n",
    "        print(\"Exited loop!\")\n",
    "        break\n",
    "    else:\n",
    "        print(\"you typed:\",user_input)"
   ]
  },
  {
   "cell_type": "code",
   "execution_count": 3,
   "id": "18dfe576-bf4f-49ec-ac11-a3fa7630ea81",
   "metadata": {},
   "outputs": [
    {
     "name": "stdin",
     "output_type": "stream",
     "text": [
      "enter password: nancy\n"
     ]
    },
    {
     "name": "stdout",
     "output_type": "stream",
     "text": [
      "access granted\n"
     ]
    }
   ],
   "source": [
    "password=\"nancy\" \n",
    "attempts=3\n",
    "\n",
    "while attempts>0: \n",
    "    user_input=input(\"enter password:\") \n",
    "    if user_input == password: \n",
    "        print(\"access granted\") \n",
    "        break\n",
    "    else: attempts -=1 \n",
    "    print(f\"wrong password! {attempts} attempts left\")"
   ]
  },
  {
   "cell_type": "code",
   "execution_count": 4,
   "id": "ca718187-6d54-4d05-89c7-a3d11c47d810",
   "metadata": {},
   "outputs": [
    {
     "name": "stdout",
     "output_type": "stream",
     "text": [
      "0\n",
      "7\n",
      "14\n",
      "21\n",
      "28\n",
      "35\n",
      "42\n",
      "49\n",
      "56\n",
      "63\n",
      "70\n",
      "77\n",
      "84\n",
      "91\n",
      "98\n"
     ]
    }
   ],
   "source": [
    "number=0\n",
    "while number<=100:\n",
    "   if number % 7 == 0:\n",
    "     print(number)\n",
    "   number+=1"
   ]
  },
  {
   "cell_type": "code",
   "execution_count": 5,
   "id": "aa36c5df-01b2-4882-a3da-b4ffc13de47c",
   "metadata": {},
   "outputs": [
    {
     "name": "stdout",
     "output_type": "stream",
     "text": [
      "number: 1\n",
      "number: 2\n",
      "number: 3\n",
      "number: 4\n",
      "number: 5\n"
     ]
    }
   ],
   "source": [
    "#for loops\n",
    "for i in range(1,6):\n",
    "  print(\"number:\",i)"
   ]
  },
  {
   "cell_type": "code",
   "execution_count": 8,
   "id": "1c6371ce-2615-454e-87cf-2b6b9a03ec77",
   "metadata": {},
   "outputs": [
    {
     "name": "stdin",
     "output_type": "stream",
     "text": [
      "enter a number: 5\n"
     ]
    },
    {
     "name": "stdout",
     "output_type": "stream",
     "text": [
      "5x1=5\n",
      "5x2=10\n",
      "5x3=15\n",
      "5x4=20\n",
      "5x5=25\n",
      "5x6=30\n",
      "5x7=35\n",
      "5x8=40\n",
      "5x9=45\n",
      "5x10=50\n"
     ]
    }
   ],
   "source": [
    "num=int(input(\"enter a number:\"))\n",
    "for i in range (1,11):\n",
    "    print(f\"{num}x{i}={num*i}\")"
   ]
  },
  {
   "cell_type": "code",
   "execution_count": 7,
   "id": "a472f423-f4e8-4db8-86b6-12388e5ed0d4",
   "metadata": {},
   "outputs": [
    {
     "name": "stdin",
     "output_type": "stream",
     "text": [
      "enter password: nancy\n"
     ]
    },
    {
     "name": "stdout",
     "output_type": "stream",
     "text": [
      "access granted\n"
     ]
    }
   ],
   "source": [
    "password=\"nancy\"\n",
    "for attempts in range(3,0,-1):\n",
    "    user_input=input(\"enter password:\")\n",
    "    if user_input == password:\n",
    "        print(\"access granted\")\n",
    "        break\n",
    "    else:\n",
    "        print(f\"wrong password! {attempts-1} attempts left\")"
   ]
  },
  {
   "cell_type": "code",
   "execution_count": 14,
   "id": "c5eb1214-c9ca-437a-a5d2-ea8657effae5",
   "metadata": {},
   "outputs": [
    {
     "name": "stdout",
     "output_type": "stream",
     "text": [
      "1\n",
      "2\n",
      "4\n",
      "5\n"
     ]
    }
   ],
   "source": [
    "for i in range(1,6):\n",
    "    if i==3:\n",
    "        continue\n",
    "    print(i)"
   ]
  },
  {
   "cell_type": "code",
   "execution_count": 13,
   "id": "7c523eb8-f6b5-4e90-88f0-67362955f13a",
   "metadata": {},
   "outputs": [
    {
     "name": "stdout",
     "output_type": "stream",
     "text": [
      "1\n",
      "2\n",
      "3\n",
      "4\n",
      "5\n",
      "6\n",
      "7\n",
      "8\n",
      "9\n"
     ]
    }
   ],
   "source": [
    "for i in range(1,10):\n",
    "    if 1 == 5:\n",
    "        break\n",
    "    print(i)"
   ]
  },
  {
   "cell_type": "code",
   "execution_count": 11,
   "id": "b710db7e-1151-4a9e-88d4-ef0adf366f28",
   "metadata": {},
   "outputs": [
    {
     "name": "stdout",
     "output_type": "stream",
     "text": [
      "2\n",
      "3\n",
      "4\n",
      "5\n",
      "6\n",
      "7\n"
     ]
    }
   ],
   "source": [
    "for i in range (1,10):\n",
    "  if i==1:\n",
    "     continue\n",
    "  if i==8:\n",
    "     break\n",
    "  print(i)"
   ]
  },
  {
   "cell_type": "code",
   "execution_count": 22,
   "id": "318b9062-d836-46d3-a113-c2ba9769955a",
   "metadata": {},
   "outputs": [
    {
     "name": "stdout",
     "output_type": "stream",
     "text": [
      "3\n"
     ]
    }
   ],
   "source": [
    "#function\n",
    "def hello():\n",
    "    a=1\n",
    "    b=2\n",
    "    c=a+b\n",
    "    print(c)\n",
    "hello()"
   ]
  },
  {
   "cell_type": "code",
   "execution_count": 27,
   "id": "fdba2d71-e003-4045-ae69-b1e79a03bd27",
   "metadata": {},
   "outputs": [
    {
     "name": "stdout",
     "output_type": "stream",
     "text": [
      "ycnan\n"
     ]
    }
   ],
   "source": [
    "def nancy():\n",
    "    my_string=\"nancy\"\n",
    "    reverse=my_string[::-1]\n",
    "    return reverse\n",
    "my_string = nancy()\n",
    "print(my_string)"
   ]
  },
  {
   "cell_type": "code",
   "execution_count": 1,
   "id": "2210e2d4-e9f6-46d6-866d-f6938883d912",
   "metadata": {},
   "outputs": [
    {
     "name": "stdout",
     "output_type": "stream",
     "text": [
      "9\n"
     ]
    }
   ],
   "source": [
    "print(3**2)"
   ]
  },
  {
   "cell_type": "code",
   "execution_count": 2,
   "id": "fd3d4560-e8e2-4270-b9bc-af7944ce815c",
   "metadata": {},
   "outputs": [
    {
     "name": "stdout",
     "output_type": "stream",
     "text": [
      "Yes\n"
     ]
    }
   ],
   "source": [
    "x = 5; \n",
    "if x > 3:\n",
    "    print('Yes')"
   ]
  },
  {
   "cell_type": "code",
   "execution_count": 3,
   "id": "7c155882-3229-4432-bb82-7817c027c5ff",
   "metadata": {},
   "outputs": [
    {
     "name": "stdout",
     "output_type": "stream",
     "text": [
      "OK\n"
     ]
    }
   ],
   "source": [
    "if 5 < 10: \n",
    "    print('OK')"
   ]
  },
  {
   "cell_type": "code",
   "execution_count": 6,
   "id": "7145d857-ebad-43f0-a503-686255431c29",
   "metadata": {},
   "outputs": [
    {
     "name": "stdout",
     "output_type": "stream",
     "text": [
      "hello,world!\n"
     ]
    }
   ],
   "source": [
    "print(\"hello,world!\")"
   ]
  },
  {
   "cell_type": "code",
   "execution_count": 7,
   "id": "3cb92d8a-a88e-4f27-ad7d-c218ab0b521d",
   "metadata": {},
   "outputs": [
    {
     "name": "stdout",
     "output_type": "stream",
     "text": [
      "Hello,world!\n"
     ]
    }
   ],
   "source": [
    "a='Hello,world!'\n",
    "print(a)"
   ]
  },
  {
   "cell_type": "code",
   "execution_count": 2,
   "id": "a4433281-cd43-4542-bb18-e6401acb7fbc",
   "metadata": {},
   "outputs": [],
   "source": [
    "def check_even_odd(number):\n",
    "    if number % 2 == 0:\n",
    "        print(f\"{number} is Even\")\n",
    "    else:\n",
    "        print(f\"{number} is Odd\")"
   ]
  },
  {
   "cell_type": "code",
   "execution_count": 3,
   "id": "39a11dbc-afeb-41b9-8500-60140d832ade",
   "metadata": {},
   "outputs": [
    {
     "name": "stdout",
     "output_type": "stream",
     "text": [
      "5 is Odd\n",
      "10 is Even\n"
     ]
    }
   ],
   "source": [
    "check_even_odd(5)\n",
    "check_even_odd(10)"
   ]
  },
  {
   "cell_type": "code",
   "execution_count": 4,
   "id": "d09e5bdb-70b4-4e4e-ae3a-7ee35c9b5041",
   "metadata": {},
   "outputs": [
    {
     "name": "stdout",
     "output_type": "stream",
     "text": [
      "5 is Odd\n",
      "10 is Even\n"
     ]
    }
   ],
   "source": [
    "def check_even_odd(number):\n",
    "    if number % 2 == 0:\n",
    "        print(f\"{number} is Even\")\n",
    "    else:\n",
    "        print(f\"{number} is Odd\")\n",
    "check_even_odd(5)\n",
    "check_even_odd(10)"
   ]
  },
  {
   "cell_type": "code",
   "execution_count": 5,
   "id": "6b09654c-76c9-4a63-8017-96d4c5183b89",
   "metadata": {},
   "outputs": [
    {
     "name": "stdout",
     "output_type": "stream",
     "text": [
      "Average: 15.0\n"
     ]
    }
   ],
   "source": [
    "def find_average(num1, num2):\n",
    "    return (num1 + num2) / 2\n",
    "result = find_average(10, 20)\n",
    "print(\"Average:\", result)"
   ]
  },
  {
   "cell_type": "code",
   "execution_count": 6,
   "id": "8e711a6a-8777-44b9-aefd-d910a2a231cb",
   "metadata": {},
   "outputs": [
    {
     "name": "stdout",
     "output_type": "stream",
     "text": [
      "Number of vowels: 3\n"
     ]
    }
   ],
   "source": [
    "def count_vowels(text):\n",
    "    vowels = 'aeiouAEIOU'\n",
    "    count = 0\n",
    "    for char in text:\n",
    "        if char in vowels:\n",
    "            count += 1\n",
    "    return count\n",
    "result = count_vowels(\"Hello World\")\n",
    "print(\"Number of vowels:\", result)"
   ]
  },
  {
   "cell_type": "code",
   "execution_count": 7,
   "id": "ca2e2e2c-1853-4cae-8dd0-bf0191245747",
   "metadata": {},
   "outputs": [
    {
     "name": "stdin",
     "output_type": "stream",
     "text": [
      "Enter a number:  5\n"
     ]
    },
    {
     "name": "stdout",
     "output_type": "stream",
     "text": [
      "The square of 5.0 is 25.0\n"
     ]
    }
   ],
   "source": [
    "square = lambda x: x ** 2\n",
    "\n",
    "num = float(input(\"Enter a number: \"))\n",
    "result = square(num)\n",
    "print(f\"The square of {num} is {result}\")"
   ]
  },
  {
   "cell_type": "code",
   "execution_count": 10,
   "id": "71db2924-260e-499c-9e33-59346c491b32",
   "metadata": {},
   "outputs": [
    {
     "name": "stdout",
     "output_type": "stream",
     "text": [
      "Factorial of 5 is 120\n"
     ]
    }
   ],
   "source": [
    "def factorial(n):\n",
    "    if n < 0:\n",
    "        return \"Factorial not defined for negative numbers\"\n",
    "    elif n == 0 or n == 1:\n",
    "        return 1\n",
    "    else:\n",
    "        return n * factorial(n - 1)\n",
    "        num = int(input(\"Enter a number: \"))\n",
    "result = factorial(num)\n",
    "print(f\"Factorial of {num} is {result}\")"
   ]
  },
  {
   "cell_type": "code",
   "execution_count": 9,
   "id": "78021742-2313-48f5-bb1b-24cbd4482ecb",
   "metadata": {},
   "outputs": [
    {
     "name": "stdin",
     "output_type": "stream",
     "text": [
      "Enter a number:  5\n"
     ]
    },
    {
     "name": "stdout",
     "output_type": "stream",
     "text": [
      "Factorial of 5 is 120\n"
     ]
    }
   ],
   "source": [
    "num = int(input(\"Enter a number: \"))\n",
    "result = factorial(num)\n",
    "print(f\"Factorial of {num} is {result}\")"
   ]
  },
  {
   "cell_type": "code",
   "execution_count": null,
   "id": "79a57251-d2ab-4168-a41e-efed4b59e50a",
   "metadata": {},
   "outputs": [],
   "source": []
  }
 ],
 "metadata": {
  "kernelspec": {
   "display_name": "Python [conda env:base] *",
   "language": "python",
   "name": "conda-base-py"
  },
  "language_info": {
   "codemirror_mode": {
    "name": "ipython",
    "version": 3
   },
   "file_extension": ".py",
   "mimetype": "text/x-python",
   "name": "python",
   "nbconvert_exporter": "python",
   "pygments_lexer": "ipython3",
   "version": "3.13.5"
  }
 },
 "nbformat": 4,
 "nbformat_minor": 5
}
