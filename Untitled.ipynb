{
 "cells": [
  {
   "cell_type": "code",
   "execution_count": 5,
   "id": "db13740e-541c-49f8-b8f0-dd9ddb1fd587",
   "metadata": {},
   "outputs": [
    {
     "name": "stdin",
     "output_type": "stream",
     "text": [
      "enter a number 4\n"
     ]
    },
    {
     "name": "stdout",
     "output_type": "stream",
     "text": [
      "4 x 1\n",
      "4 x 2\n",
      "4 x 3\n",
      "4 x 4\n",
      "4 x 5\n",
      "4 x 6\n",
      "4 x 7\n",
      "4 x 8\n",
      "4 x 9\n",
      "4 x 10\n"
     ]
    }
   ],
   "source": [
    "#loops\n",
    "#while loop\n",
    "num=int(input(\"enter a number\"))\n",
    "i=1\n",
    "while  i<=10:\n",
    "    print(f\"{num} x {i}\")\n",
    "    i+=1"
   ]
  },
  {
   "cell_type": "code",
   "execution_count": 27,
   "id": "7f567a94-2586-4314-9bd5-9ba6984509c0",
   "metadata": {},
   "outputs": [
    {
     "name": "stdin",
     "output_type": "stream",
     "text": [
      "type'Q' to quit: g\n"
     ]
    },
    {
     "name": "stdout",
     "output_type": "stream",
     "text": [
      "you typed: g\n"
     ]
    },
    {
     "name": "stdin",
     "output_type": "stream",
     "text": [
      "type'Q' to quit: q\n"
     ]
    },
    {
     "name": "stdout",
     "output_type": "stream",
     "text": [
      "Exited loop!\n"
     ]
    }
   ],
   "source": [
    "while True:\n",
    "    user_input = input(\"type'Q' to quit:\")\n",
    "    if user_input == 'q':\n",
    "        print(\"Exited loop!\")\n",
    "        break\n",
    "    else:\n",
    "        print(\"you typed:\",user_input)"
   ]
  },
  {
   "cell_type": "code",
   "execution_count": 30,
   "id": "98d2ead3-6cc7-4475-8d1b-4b553a192101",
   "metadata": {},
   "outputs": [
    {
     "name": "stdin",
     "output_type": "stream",
     "text": [
      "enter password: 123\n"
     ]
    },
    {
     "name": "stdout",
     "output_type": "stream",
     "text": [
      "wrong password! 2 attempts left\n"
     ]
    },
    {
     "name": "stdin",
     "output_type": "stream",
     "text": [
      "enter password: jkk\n"
     ]
    },
    {
     "name": "stdout",
     "output_type": "stream",
     "text": [
      "wrong password! 1 attempts left\n"
     ]
    },
    {
     "name": "stdin",
     "output_type": "stream",
     "text": [
      "enter password: okk\n"
     ]
    },
    {
     "name": "stdout",
     "output_type": "stream",
     "text": [
      "wrong password! 0 attempts left\n"
     ]
    }
   ],
   "source": [
    "password=\"nancy\"\n",
    "attempts=3\n",
    "\n",
    "while attempts>0:\n",
    "    user_input=input(\"enter password:\")\n",
    "    if user_input == password:\n",
    "        print(\"access granted\")\n",
    "        break\n",
    "    else:\n",
    "        attempts -=1\n",
    "        print(f\"wrong password! {attempts} attempts left\")"
   ]
  },
  {
   "cell_type": "code",
   "execution_count": null,
   "id": "3973bf1d-a022-44e4-9374-712a05ac9969",
   "metadata": {},
   "outputs": [],
   "source": []
  }
 ],
 "metadata": {
  "kernelspec": {
   "display_name": "Python [conda env:base] *",
   "language": "python",
   "name": "conda-base-py"
  },
  "language_info": {
   "codemirror_mode": {
    "name": "ipython",
    "version": 3
   },
   "file_extension": ".py",
   "mimetype": "text/x-python",
   "name": "python",
   "nbconvert_exporter": "python",
   "pygments_lexer": "ipython3",
   "version": "3.13.5"
  }
 },
 "nbformat": 4,
 "nbformat_minor": 5
}
